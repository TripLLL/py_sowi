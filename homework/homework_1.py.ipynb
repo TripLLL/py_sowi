{
 "cells": [
  {
   "cell_type": "markdown",
   "metadata": {},
   "source": [
    "1) **Schreibe folgenden Satz einmal vorwärts, einmal rückwärts (und lese ihn laut vor):**\n",
    "\n",
    "Eins nutzt uns: Amore. Die Rederei da, die Rederei der Omas, nutzt uns nie.\n"
   ]
  },
  {
   "cell_type": "code",
   "execution_count": 1,
   "metadata": {},
   "outputs": [
    {
     "name": "stdout",
     "output_type": "stream",
     "text": [
      "1.1 vorwärts: Eins nutzt uns: Amore. Die Rederei da, die Rederei der Omas, nutzt uns nie.\n",
      "1.2 rückwärts: .ein snu tztun ,samO red ieredeR eid ,ad ieredeR eiD .eromA :snu tztun sniE\n"
     ]
    }
   ],
   "source": [
    "a = 'Eins nutzt uns: Amore. Die Rederei da, die Rederei der Omas, nutzt uns nie.'\n",
    "\n",
    "print(\"1.1 vorwärts: \" + a)\n",
    "print(\"1.2 rückwärts: \" + a[::-1])"
   ]
  },
  {
   "cell_type": "markdown",
   "metadata": {},
   "source": [
    "2) **Schreibe folgende Regel 100 Mal untereinander auf den Bildschirm:**\n",
    "\n",
    "Ich darf meine Arbeit nicht abkürzen!\n",
    "\n",
    "\n"
   ]
  },
  {
   "cell_type": "code",
   "execution_count": 2,
   "metadata": {},
   "outputs": [
    {
     "name": "stdout",
     "output_type": "stream",
     "text": [
      "1 : Ich darf meine Arbeit nicht abkürzen!\n",
      "2 : Ich darf meine Arbeit nicht abkürzen!\n",
      "3 : Ich darf meine Arbeit nicht abkürzen!\n",
      "4 : Ich darf meine Arbeit nicht abkürzen!\n",
      "5 : Ich darf meine Arbeit nicht abkürzen!\n",
      "6 : Ich darf meine Arbeit nicht abkürzen!\n",
      "7 : Ich darf meine Arbeit nicht abkürzen!\n",
      "8 : Ich darf meine Arbeit nicht abkürzen!\n",
      "9 : Ich darf meine Arbeit nicht abkürzen!\n",
      "10 : Ich darf meine Arbeit nicht abkürzen!\n",
      "11 : Ich darf meine Arbeit nicht abkürzen!\n",
      "12 : Ich darf meine Arbeit nicht abkürzen!\n",
      "13 : Ich darf meine Arbeit nicht abkürzen!\n",
      "14 : Ich darf meine Arbeit nicht abkürzen!\n",
      "15 : Ich darf meine Arbeit nicht abkürzen!\n",
      "16 : Ich darf meine Arbeit nicht abkürzen!\n",
      "17 : Ich darf meine Arbeit nicht abkürzen!\n",
      "18 : Ich darf meine Arbeit nicht abkürzen!\n",
      "19 : Ich darf meine Arbeit nicht abkürzen!\n",
      "20 : Ich darf meine Arbeit nicht abkürzen!\n",
      "21 : Ich darf meine Arbeit nicht abkürzen!\n",
      "22 : Ich darf meine Arbeit nicht abkürzen!\n",
      "23 : Ich darf meine Arbeit nicht abkürzen!\n",
      "24 : Ich darf meine Arbeit nicht abkürzen!\n",
      "25 : Ich darf meine Arbeit nicht abkürzen!\n",
      "26 : Ich darf meine Arbeit nicht abkürzen!\n",
      "27 : Ich darf meine Arbeit nicht abkürzen!\n",
      "28 : Ich darf meine Arbeit nicht abkürzen!\n",
      "29 : Ich darf meine Arbeit nicht abkürzen!\n",
      "30 : Ich darf meine Arbeit nicht abkürzen!\n",
      "31 : Ich darf meine Arbeit nicht abkürzen!\n",
      "32 : Ich darf meine Arbeit nicht abkürzen!\n",
      "33 : Ich darf meine Arbeit nicht abkürzen!\n",
      "34 : Ich darf meine Arbeit nicht abkürzen!\n",
      "35 : Ich darf meine Arbeit nicht abkürzen!\n",
      "36 : Ich darf meine Arbeit nicht abkürzen!\n",
      "37 : Ich darf meine Arbeit nicht abkürzen!\n",
      "38 : Ich darf meine Arbeit nicht abkürzen!\n",
      "39 : Ich darf meine Arbeit nicht abkürzen!\n",
      "40 : Ich darf meine Arbeit nicht abkürzen!\n",
      "41 : Ich darf meine Arbeit nicht abkürzen!\n",
      "42 : Ich darf meine Arbeit nicht abkürzen!\n",
      "43 : Ich darf meine Arbeit nicht abkürzen!\n",
      "44 : Ich darf meine Arbeit nicht abkürzen!\n",
      "45 : Ich darf meine Arbeit nicht abkürzen!\n",
      "46 : Ich darf meine Arbeit nicht abkürzen!\n",
      "47 : Ich darf meine Arbeit nicht abkürzen!\n",
      "48 : Ich darf meine Arbeit nicht abkürzen!\n",
      "49 : Ich darf meine Arbeit nicht abkürzen!\n",
      "50 : Ich darf meine Arbeit nicht abkürzen!\n",
      "51 : Ich darf meine Arbeit nicht abkürzen!\n",
      "52 : Ich darf meine Arbeit nicht abkürzen!\n",
      "53 : Ich darf meine Arbeit nicht abkürzen!\n",
      "54 : Ich darf meine Arbeit nicht abkürzen!\n",
      "55 : Ich darf meine Arbeit nicht abkürzen!\n",
      "56 : Ich darf meine Arbeit nicht abkürzen!\n",
      "57 : Ich darf meine Arbeit nicht abkürzen!\n",
      "58 : Ich darf meine Arbeit nicht abkürzen!\n",
      "59 : Ich darf meine Arbeit nicht abkürzen!\n",
      "60 : Ich darf meine Arbeit nicht abkürzen!\n",
      "61 : Ich darf meine Arbeit nicht abkürzen!\n",
      "62 : Ich darf meine Arbeit nicht abkürzen!\n",
      "63 : Ich darf meine Arbeit nicht abkürzen!\n",
      "64 : Ich darf meine Arbeit nicht abkürzen!\n",
      "65 : Ich darf meine Arbeit nicht abkürzen!\n",
      "66 : Ich darf meine Arbeit nicht abkürzen!\n",
      "67 : Ich darf meine Arbeit nicht abkürzen!\n",
      "68 : Ich darf meine Arbeit nicht abkürzen!\n",
      "69 : Ich darf meine Arbeit nicht abkürzen!\n",
      "70 : Ich darf meine Arbeit nicht abkürzen!\n",
      "71 : Ich darf meine Arbeit nicht abkürzen!\n",
      "72 : Ich darf meine Arbeit nicht abkürzen!\n",
      "73 : Ich darf meine Arbeit nicht abkürzen!\n",
      "74 : Ich darf meine Arbeit nicht abkürzen!\n",
      "75 : Ich darf meine Arbeit nicht abkürzen!\n",
      "76 : Ich darf meine Arbeit nicht abkürzen!\n",
      "77 : Ich darf meine Arbeit nicht abkürzen!\n",
      "78 : Ich darf meine Arbeit nicht abkürzen!\n",
      "79 : Ich darf meine Arbeit nicht abkürzen!\n",
      "80 : Ich darf meine Arbeit nicht abkürzen!\n",
      "81 : Ich darf meine Arbeit nicht abkürzen!\n",
      "82 : Ich darf meine Arbeit nicht abkürzen!\n",
      "83 : Ich darf meine Arbeit nicht abkürzen!\n",
      "84 : Ich darf meine Arbeit nicht abkürzen!\n",
      "85 : Ich darf meine Arbeit nicht abkürzen!\n",
      "86 : Ich darf meine Arbeit nicht abkürzen!\n",
      "87 : Ich darf meine Arbeit nicht abkürzen!\n",
      "88 : Ich darf meine Arbeit nicht abkürzen!\n",
      "89 : Ich darf meine Arbeit nicht abkürzen!\n",
      "90 : Ich darf meine Arbeit nicht abkürzen!\n",
      "91 : Ich darf meine Arbeit nicht abkürzen!\n",
      "92 : Ich darf meine Arbeit nicht abkürzen!\n",
      "93 : Ich darf meine Arbeit nicht abkürzen!\n",
      "94 : Ich darf meine Arbeit nicht abkürzen!\n",
      "95 : Ich darf meine Arbeit nicht abkürzen!\n",
      "96 : Ich darf meine Arbeit nicht abkürzen!\n",
      "97 : Ich darf meine Arbeit nicht abkürzen!\n",
      "98 : Ich darf meine Arbeit nicht abkürzen!\n",
      "99 : Ich darf meine Arbeit nicht abkürzen!\n",
      "100 : Ich darf meine Arbeit nicht abkürzen!\n"
     ]
    }
   ],
   "source": [
    "for i in range(100):\n",
    "    print(i+1 , \": \" + \"Ich darf meine Arbeit nicht abkürzen!\")"
   ]
  },
  {
   "cell_type": "markdown",
   "metadata": {},
   "source": [
    "3)  **Schreibe a groß und b klein**\n",
    "\n",
    "string functions: https://docs.python.org/2/library/string.html\n",
    "\n"
   ]
  },
  {
   "cell_type": "code",
   "execution_count": 3,
   "metadata": {},
   "outputs": [
    {
     "name": "stdout",
     "output_type": "stream",
     "text": [
      "APFEL\n",
      "essen\n"
     ]
    }
   ],
   "source": [
    "a = 'apfel' \n",
    "b = 'ESSEN'\n",
    "\n",
    "print(a.upper())\n",
    "print(b.lower())"
   ]
  },
  {
   "cell_type": "markdown",
   "metadata": {},
   "source": [
    "4) Erzeuge/schreibe einen String, in dem sowohl einfache (') als auch doppelte (\")  als auch dreifach-einfache (''') als auch dreifach-doppelte (\"\"\") Anführungszeichen vorkommen."
   ]
  },
  {
   "cell_type": "code",
   "execution_count": 4,
   "metadata": {},
   "outputs": [
    {
     "name": "stdout",
     "output_type": "stream",
     "text": [
      "Anführungszeichen gibt es in verschiedenen Ausführeungen: \n",
      "sie können 'einfach' vorkommen, oder \"doppelt-einfach\", \n",
      "aber auch '''dreifach''' oder \"\"\"dreifach-doppelt\"\"\" auftauchen. \n"
     ]
    }
   ],
   "source": [
    "print(\"Anführungszeichen gibt es in verschiedenen Ausführeungen: \\n\\\n",
    "sie können \\'einfach\\' vorkommen, oder \\\"doppelt-einfach\\\", \\n\\\n",
    "aber auch \\'''dreifach\\''' oder \\\"\\\"\\\"dreifach-doppelt\\\"\\\"\\\" auftauchen. \")"
   ]
  },
  {
   "cell_type": "markdown",
   "metadata": {},
   "source": [
    "5) **Erstelle ein Handbuch soziologischer \"Grundbegriffe\". Darin sollten sich mindestens drei Grundbegriffe (deiner Wahl) nachschlagen lassen. Zu jedem dieser Begriffe sollten sich wiederum zwei Dinge nachschlagen lassen:**\n",
    "\n",
    "a) eine kurze \"Definition\" in zwei, drei Sätzen\n",
    "\n",
    "b) eine Liste mit Namen der wichtigsten \"Autor_innen\" zu diesem Begriff, z.B. <print Grundbegriffe['Soziale Systeme']['Autor_innen']> gibt <['Luhmann', 'Parsons']> zurück\n"
   ]
  },
  {
   "cell_type": "code",
   "execution_count": 23,
   "metadata": {},
   "outputs": [
    {
     "name": "stdout",
     "output_type": "stream",
     "text": [
      "kurze def 1\n"
     ]
    }
   ],
   "source": [
    "Grundbegriffe = {'soziale Interaktion' : {'Autor_innen': 'Mead, Robert',\n",
    "                                         'Definition1': 'kurze def 1'},\n",
    "                 'feminismus' : {'Autor_innen': 'hooks, bell',\n",
    "                                 'Definition2': 'kurze def 2'},\n",
    "                 'dritter Grundbegriff' : {'Autor_innen': 'dritte Autorin',\n",
    "                                          'Definition3': 'kurze def 3'}\n",
    "                }\n",
    "\n",
    "print(Grundbegriffe['soziale Interaktion']['Definition1'])"
   ]
  },
  {
   "cell_type": "markdown",
   "metadata": {},
   "source": [
    "6) **Challenge: zerlege folgenden soziologischen Grundbegriff in seine Einzelteile (gemeint sind hier natürlich die Zeichen des Strings!), sortiere diese alphabetisch (und zwar unabhängig von Groß- und Kleinschreibung!) und gebe sie als einen neuen String wieder aus, in dem wieder nur das erste Zeichen groß geschieben ist:**\n",
    "\n",
    "*Tipp 1: schau dir dazu mal sowohl die list() Funktion als auch die join() Funktion für strings an*\n",
    "\n",
    "Super challenge: schreib die Lösung für 6) in einen einzigen Print Befehl\n",
    "\n",
    "\n",
    "list of functions: https://docs.python.org/2/library/functions.html#func-list\n",
    "join doku: https://www.tutorialspoint.com/python/string_join.htm\n"
   ]
  },
  {
   "cell_type": "code",
   "execution_count": 58,
   "metadata": {},
   "outputs": [
    {
     "name": "stdout",
     "output_type": "stream",
     "text": [
      "multiline: Efgiiinrs\n",
      "one-line: Efgiiinrs\n"
     ]
    }
   ],
   "source": [
    "# multi line\n",
    "\n",
    "a = \"Signifier\"\n",
    "b = sorted(a.lower())\n",
    "c = \"\".join(b)\n",
    "print(\"multiline:\",  c.title())\n",
    "\n",
    "# one- line <3\n",
    "print(\"one-line:\", \"\".join(sorted(a.lower())).title())\n"
   ]
  },
  {
   "cell_type": "code",
   "execution_count": null,
   "metadata": {
    "collapsed": true
   },
   "outputs": [],
   "source": []
  }
 ],
 "metadata": {
  "kernelspec": {
   "display_name": "Python 3",
   "language": "python",
   "name": "python3"
  },
  "language_info": {
   "codemirror_mode": {
    "name": "ipython",
    "version": 3
   },
   "file_extension": ".py",
   "mimetype": "text/x-python",
   "name": "python",
   "nbconvert_exporter": "python",
   "pygments_lexer": "ipython3",
   "version": "3.6.1"
  }
 },
 "nbformat": 4,
 "nbformat_minor": 2
}
